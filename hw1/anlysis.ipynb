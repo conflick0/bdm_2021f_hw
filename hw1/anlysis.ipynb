{
 "cells": [
  {
   "cell_type": "code",
   "execution_count": 18,
   "id": "1eea602a",
   "metadata": {},
   "outputs": [],
   "source": [
    "import pandas as pd\n",
    "import numpy as np\n",
    "f = \"household_power_consumption.txt\"\n",
    "df = pd.read_csv(f, \n",
    "                 sep=';',\n",
    "                 na_values=[np.nan, '?'])"
   ]
  },
  {
   "cell_type": "code",
   "execution_count": 19,
   "id": "667d0c64",
   "metadata": {},
   "outputs": [
    {
     "name": "stdout",
     "output_type": "stream",
     "text": [
      "<class 'pandas.core.frame.DataFrame'>\n",
      "RangeIndex: 2075259 entries, 0 to 2075258\n",
      "Data columns (total 9 columns):\n",
      " #   Column                 Dtype  \n",
      "---  ------                 -----  \n",
      " 0   Date                   object \n",
      " 1   Time                   object \n",
      " 2   Global_active_power    float64\n",
      " 3   Global_reactive_power  float64\n",
      " 4   Voltage                float64\n",
      " 5   Global_intensity       float64\n",
      " 6   Sub_metering_1         float64\n",
      " 7   Sub_metering_2         float64\n",
      " 8   Sub_metering_3         float64\n",
      "dtypes: float64(7), object(2)\n",
      "memory usage: 142.5+ MB\n"
     ]
    }
   ],
   "source": [
    "df.info()"
   ]
  },
  {
   "cell_type": "code",
   "execution_count": 20,
   "id": "a958ed73",
   "metadata": {},
   "outputs": [
    {
     "data": {
      "text/html": [
       "<div>\n",
       "<style scoped>\n",
       "    .dataframe tbody tr th:only-of-type {\n",
       "        vertical-align: middle;\n",
       "    }\n",
       "\n",
       "    .dataframe tbody tr th {\n",
       "        vertical-align: top;\n",
       "    }\n",
       "\n",
       "    .dataframe thead th {\n",
       "        text-align: right;\n",
       "    }\n",
       "</style>\n",
       "<table border=\"1\" class=\"dataframe\">\n",
       "  <thead>\n",
       "    <tr style=\"text-align: right;\">\n",
       "      <th></th>\n",
       "      <th>Global_active_power</th>\n",
       "      <th>Global_reactive_power</th>\n",
       "      <th>Voltage</th>\n",
       "      <th>Global_intensity</th>\n",
       "      <th>Sub_metering_1</th>\n",
       "      <th>Sub_metering_2</th>\n",
       "      <th>Sub_metering_3</th>\n",
       "    </tr>\n",
       "  </thead>\n",
       "  <tbody>\n",
       "    <tr>\n",
       "      <th>count</th>\n",
       "      <td>2.049280e+06</td>\n",
       "      <td>2.049280e+06</td>\n",
       "      <td>2.049280e+06</td>\n",
       "      <td>2.049280e+06</td>\n",
       "      <td>2.049280e+06</td>\n",
       "      <td>2.049280e+06</td>\n",
       "      <td>2.049280e+06</td>\n",
       "    </tr>\n",
       "    <tr>\n",
       "      <th>mean</th>\n",
       "      <td>1.091615e+00</td>\n",
       "      <td>1.237145e-01</td>\n",
       "      <td>2.408399e+02</td>\n",
       "      <td>4.627759e+00</td>\n",
       "      <td>1.121923e+00</td>\n",
       "      <td>1.298520e+00</td>\n",
       "      <td>6.458447e+00</td>\n",
       "    </tr>\n",
       "    <tr>\n",
       "      <th>std</th>\n",
       "      <td>1.057294e+00</td>\n",
       "      <td>1.127220e-01</td>\n",
       "      <td>3.239987e+00</td>\n",
       "      <td>4.444396e+00</td>\n",
       "      <td>6.153031e+00</td>\n",
       "      <td>5.822026e+00</td>\n",
       "      <td>8.437154e+00</td>\n",
       "    </tr>\n",
       "    <tr>\n",
       "      <th>min</th>\n",
       "      <td>7.600000e-02</td>\n",
       "      <td>0.000000e+00</td>\n",
       "      <td>2.232000e+02</td>\n",
       "      <td>2.000000e-01</td>\n",
       "      <td>0.000000e+00</td>\n",
       "      <td>0.000000e+00</td>\n",
       "      <td>0.000000e+00</td>\n",
       "    </tr>\n",
       "    <tr>\n",
       "      <th>25%</th>\n",
       "      <td>3.080000e-01</td>\n",
       "      <td>4.800000e-02</td>\n",
       "      <td>2.389900e+02</td>\n",
       "      <td>1.400000e+00</td>\n",
       "      <td>0.000000e+00</td>\n",
       "      <td>0.000000e+00</td>\n",
       "      <td>0.000000e+00</td>\n",
       "    </tr>\n",
       "    <tr>\n",
       "      <th>50%</th>\n",
       "      <td>6.020000e-01</td>\n",
       "      <td>1.000000e-01</td>\n",
       "      <td>2.410100e+02</td>\n",
       "      <td>2.600000e+00</td>\n",
       "      <td>0.000000e+00</td>\n",
       "      <td>0.000000e+00</td>\n",
       "      <td>1.000000e+00</td>\n",
       "    </tr>\n",
       "    <tr>\n",
       "      <th>75%</th>\n",
       "      <td>1.528000e+00</td>\n",
       "      <td>1.940000e-01</td>\n",
       "      <td>2.428900e+02</td>\n",
       "      <td>6.400000e+00</td>\n",
       "      <td>0.000000e+00</td>\n",
       "      <td>1.000000e+00</td>\n",
       "      <td>1.700000e+01</td>\n",
       "    </tr>\n",
       "    <tr>\n",
       "      <th>max</th>\n",
       "      <td>1.112200e+01</td>\n",
       "      <td>1.390000e+00</td>\n",
       "      <td>2.541500e+02</td>\n",
       "      <td>4.840000e+01</td>\n",
       "      <td>8.800000e+01</td>\n",
       "      <td>8.000000e+01</td>\n",
       "      <td>3.100000e+01</td>\n",
       "    </tr>\n",
       "  </tbody>\n",
       "</table>\n",
       "</div>"
      ],
      "text/plain": [
       "       Global_active_power  Global_reactive_power       Voltage  \\\n",
       "count         2.049280e+06           2.049280e+06  2.049280e+06   \n",
       "mean          1.091615e+00           1.237145e-01  2.408399e+02   \n",
       "std           1.057294e+00           1.127220e-01  3.239987e+00   \n",
       "min           7.600000e-02           0.000000e+00  2.232000e+02   \n",
       "25%           3.080000e-01           4.800000e-02  2.389900e+02   \n",
       "50%           6.020000e-01           1.000000e-01  2.410100e+02   \n",
       "75%           1.528000e+00           1.940000e-01  2.428900e+02   \n",
       "max           1.112200e+01           1.390000e+00  2.541500e+02   \n",
       "\n",
       "       Global_intensity  Sub_metering_1  Sub_metering_2  Sub_metering_3  \n",
       "count      2.049280e+06    2.049280e+06    2.049280e+06    2.049280e+06  \n",
       "mean       4.627759e+00    1.121923e+00    1.298520e+00    6.458447e+00  \n",
       "std        4.444396e+00    6.153031e+00    5.822026e+00    8.437154e+00  \n",
       "min        2.000000e-01    0.000000e+00    0.000000e+00    0.000000e+00  \n",
       "25%        1.400000e+00    0.000000e+00    0.000000e+00    0.000000e+00  \n",
       "50%        2.600000e+00    0.000000e+00    0.000000e+00    1.000000e+00  \n",
       "75%        6.400000e+00    0.000000e+00    1.000000e+00    1.700000e+01  \n",
       "max        4.840000e+01    8.800000e+01    8.000000e+01    3.100000e+01  "
      ]
     },
     "execution_count": 20,
     "metadata": {},
     "output_type": "execute_result"
    }
   ],
   "source": [
    "df.describe()"
   ]
  },
  {
   "cell_type": "code",
   "execution_count": 21,
   "id": "477b5a7e",
   "metadata": {},
   "outputs": [
    {
     "data": {
      "text/plain": [
       "Date                         0\n",
       "Time                         0\n",
       "Global_active_power      25979\n",
       "Global_reactive_power    25979\n",
       "Voltage                  25979\n",
       "Global_intensity         25979\n",
       "Sub_metering_1           25979\n",
       "Sub_metering_2           25979\n",
       "Sub_metering_3           25979\n",
       "dtype: int64"
      ]
     },
     "execution_count": 21,
     "metadata": {},
     "output_type": "execute_result"
    }
   ],
   "source": [
    "df.isnull().sum()"
   ]
  },
  {
   "cell_type": "code",
   "execution_count": 22,
   "id": "637559b8",
   "metadata": {},
   "outputs": [],
   "source": [
    "df_clear = df.dropna()"
   ]
  },
  {
   "cell_type": "code",
   "execution_count": 75,
   "id": "687dd865",
   "metadata": {},
   "outputs": [
    {
     "data": {
      "text/html": [
       "<div>\n",
       "<style scoped>\n",
       "    .dataframe tbody tr th:only-of-type {\n",
       "        vertical-align: middle;\n",
       "    }\n",
       "\n",
       "    .dataframe tbody tr th {\n",
       "        vertical-align: top;\n",
       "    }\n",
       "\n",
       "    .dataframe thead th {\n",
       "        text-align: right;\n",
       "    }\n",
       "</style>\n",
       "<table border=\"1\" class=\"dataframe\">\n",
       "  <thead>\n",
       "    <tr style=\"text-align: right;\">\n",
       "      <th></th>\n",
       "      <th>Global_active_power</th>\n",
       "      <th>Global_reactive_power</th>\n",
       "      <th>Voltage</th>\n",
       "      <th>Global_intensity</th>\n",
       "      <th>Sub_metering_1</th>\n",
       "      <th>Sub_metering_2</th>\n",
       "      <th>Sub_metering_3</th>\n",
       "    </tr>\n",
       "  </thead>\n",
       "  <tbody>\n",
       "    <tr>\n",
       "      <th>count</th>\n",
       "      <td>2.049280e+06</td>\n",
       "      <td>2.049280e+06</td>\n",
       "      <td>2.049280e+06</td>\n",
       "      <td>2.049280e+06</td>\n",
       "      <td>2.049280e+06</td>\n",
       "      <td>2.049280e+06</td>\n",
       "      <td>2.049280e+06</td>\n",
       "    </tr>\n",
       "    <tr>\n",
       "      <th>mean</th>\n",
       "      <td>1.091615e+00</td>\n",
       "      <td>1.237145e-01</td>\n",
       "      <td>2.408399e+02</td>\n",
       "      <td>4.627759e+00</td>\n",
       "      <td>1.121923e+00</td>\n",
       "      <td>1.298520e+00</td>\n",
       "      <td>6.458447e+00</td>\n",
       "    </tr>\n",
       "    <tr>\n",
       "      <th>std</th>\n",
       "      <td>1.057294e+00</td>\n",
       "      <td>1.127220e-01</td>\n",
       "      <td>3.239987e+00</td>\n",
       "      <td>4.444396e+00</td>\n",
       "      <td>6.153031e+00</td>\n",
       "      <td>5.822026e+00</td>\n",
       "      <td>8.437154e+00</td>\n",
       "    </tr>\n",
       "    <tr>\n",
       "      <th>min</th>\n",
       "      <td>7.600000e-02</td>\n",
       "      <td>0.000000e+00</td>\n",
       "      <td>2.232000e+02</td>\n",
       "      <td>2.000000e-01</td>\n",
       "      <td>0.000000e+00</td>\n",
       "      <td>0.000000e+00</td>\n",
       "      <td>0.000000e+00</td>\n",
       "    </tr>\n",
       "    <tr>\n",
       "      <th>25%</th>\n",
       "      <td>3.080000e-01</td>\n",
       "      <td>4.800000e-02</td>\n",
       "      <td>2.389900e+02</td>\n",
       "      <td>1.400000e+00</td>\n",
       "      <td>0.000000e+00</td>\n",
       "      <td>0.000000e+00</td>\n",
       "      <td>0.000000e+00</td>\n",
       "    </tr>\n",
       "    <tr>\n",
       "      <th>50%</th>\n",
       "      <td>6.020000e-01</td>\n",
       "      <td>1.000000e-01</td>\n",
       "      <td>2.410100e+02</td>\n",
       "      <td>2.600000e+00</td>\n",
       "      <td>0.000000e+00</td>\n",
       "      <td>0.000000e+00</td>\n",
       "      <td>1.000000e+00</td>\n",
       "    </tr>\n",
       "    <tr>\n",
       "      <th>75%</th>\n",
       "      <td>1.528000e+00</td>\n",
       "      <td>1.940000e-01</td>\n",
       "      <td>2.428900e+02</td>\n",
       "      <td>6.400000e+00</td>\n",
       "      <td>0.000000e+00</td>\n",
       "      <td>1.000000e+00</td>\n",
       "      <td>1.700000e+01</td>\n",
       "    </tr>\n",
       "    <tr>\n",
       "      <th>max</th>\n",
       "      <td>1.112200e+01</td>\n",
       "      <td>1.390000e+00</td>\n",
       "      <td>2.541500e+02</td>\n",
       "      <td>4.840000e+01</td>\n",
       "      <td>8.800000e+01</td>\n",
       "      <td>8.000000e+01</td>\n",
       "      <td>3.100000e+01</td>\n",
       "    </tr>\n",
       "  </tbody>\n",
       "</table>\n",
       "</div>"
      ],
      "text/plain": [
       "       Global_active_power  Global_reactive_power       Voltage  \\\n",
       "count         2.049280e+06           2.049280e+06  2.049280e+06   \n",
       "mean          1.091615e+00           1.237145e-01  2.408399e+02   \n",
       "std           1.057294e+00           1.127220e-01  3.239987e+00   \n",
       "min           7.600000e-02           0.000000e+00  2.232000e+02   \n",
       "25%           3.080000e-01           4.800000e-02  2.389900e+02   \n",
       "50%           6.020000e-01           1.000000e-01  2.410100e+02   \n",
       "75%           1.528000e+00           1.940000e-01  2.428900e+02   \n",
       "max           1.112200e+01           1.390000e+00  2.541500e+02   \n",
       "\n",
       "       Global_intensity  Sub_metering_1  Sub_metering_2  Sub_metering_3  \n",
       "count      2.049280e+06    2.049280e+06    2.049280e+06    2.049280e+06  \n",
       "mean       4.627759e+00    1.121923e+00    1.298520e+00    6.458447e+00  \n",
       "std        4.444396e+00    6.153031e+00    5.822026e+00    8.437154e+00  \n",
       "min        2.000000e-01    0.000000e+00    0.000000e+00    0.000000e+00  \n",
       "25%        1.400000e+00    0.000000e+00    0.000000e+00    0.000000e+00  \n",
       "50%        2.600000e+00    0.000000e+00    0.000000e+00    1.000000e+00  \n",
       "75%        6.400000e+00    0.000000e+00    1.000000e+00    1.700000e+01  \n",
       "max        4.840000e+01    8.800000e+01    8.000000e+01    3.100000e+01  "
      ]
     },
     "execution_count": 75,
     "metadata": {},
     "output_type": "execute_result"
    }
   ],
   "source": [
    "df_clear.describe()"
   ]
  },
  {
   "cell_type": "code",
   "execution_count": 78,
   "id": "df411c1f",
   "metadata": {},
   "outputs": [],
   "source": [
    "d = df['Global_active_power']\n",
    "normalized_d=(d-d.min())/(d.max()-d.min())"
   ]
  },
  {
   "cell_type": "code",
   "execution_count": 79,
   "id": "949c53b4",
   "metadata": {},
   "outputs": [
    {
     "data": {
      "text/plain": [
       "0.0"
      ]
     },
     "execution_count": 79,
     "metadata": {},
     "output_type": "execute_result"
    }
   ],
   "source": [
    "normalized_d.min()"
   ]
  },
  {
   "cell_type": "code",
   "execution_count": 80,
   "id": "88aa12c2",
   "metadata": {},
   "outputs": [
    {
     "data": {
      "text/plain": [
       "1.0"
      ]
     },
     "execution_count": 80,
     "metadata": {},
     "output_type": "execute_result"
    }
   ],
   "source": [
    "normalized_d.max()"
   ]
  }
 ],
 "metadata": {
  "kernelspec": {
   "display_name": "Python 3 (ipykernel)",
   "language": "python",
   "name": "python3"
  },
  "language_info": {
   "codemirror_mode": {
    "name": "ipython",
    "version": 3
   },
   "file_extension": ".py",
   "mimetype": "text/x-python",
   "name": "python",
   "nbconvert_exporter": "python",
   "pygments_lexer": "ipython3",
   "version": "3.9.7"
  },
  "toc": {
   "base_numbering": 1,
   "nav_menu": {},
   "number_sections": true,
   "sideBar": true,
   "skip_h1_title": false,
   "title_cell": "Table of Contents",
   "title_sidebar": "Contents",
   "toc_cell": false,
   "toc_position": {},
   "toc_section_display": true,
   "toc_window_display": false
  }
 },
 "nbformat": 4,
 "nbformat_minor": 5
}
